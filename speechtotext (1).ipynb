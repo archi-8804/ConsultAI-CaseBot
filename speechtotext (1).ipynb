{
 "cells": [
  {
   "cell_type": "code",
   "execution_count": null,
   "id": "e2434f8e-a0a8-4240-8118-e5172c206271",
   "metadata": {},
   "outputs": [],
   "source": [
    "import speech_recognition as sr\n",
    "\n",
    "# Create a recognizer instance\n",
    "recognizer = sr.Recognizer()\n",
    "\n",
    "# Open the microphone for audio input\n",
    "with sr.Microphone() as source:\n",
    "    print(\"Listening...\")\n",
    "\n",
    "    # Adjust for ambient noise levels\n",
    "    recognizer.adjust_for_ambient_noise(source)\n",
    "\n",
    "    # Listen for speech input\n",
    "    while True:\n",
    "        try:\n",
    "            audio = recognizer.listen(source, timeout=3)  # Adjust timeout as needed\n",
    "            # Recognize speech using Google Speech Recognition\n",
    "            text = recognizer.recognize_google(audio)\n",
    "            print(\"You said:\", text)\n",
    "        except sr.UnknownValueError:\n",
    "            print(\"Speech Recognition could not understand audio\")\n",
    "        except sr.RequestError as e:\n",
    "            print(\"Could not request results from Google Speech Recognition service; {0}\".format(e))"
   ]
  }
 ],
 "metadata": {
  "kernelspec": {
   "display_name": "Python 3 (ipykernel)",
   "language": "python",
   "name": "python3"
  },
  "language_info": {
   "codemirror_mode": {
    "name": "ipython",
    "version": 3
   },
   "file_extension": ".py",
   "mimetype": "text/x-python",
   "name": "python",
   "nbconvert_exporter": "python",
   "pygments_lexer": "ipython3",
   "version": "3.11.7"
  }
 },
 "nbformat": 4,
 "nbformat_minor": 5
}
